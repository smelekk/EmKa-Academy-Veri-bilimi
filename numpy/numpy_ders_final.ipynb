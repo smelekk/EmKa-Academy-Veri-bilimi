{
 "cells": [
  {
   "cell_type": "code",
   "execution_count": 3,
   "id": "1459c880",
   "metadata": {},
   "outputs": [
    {
     "data": {
      "text/plain": [
       "(3, 3)"
      ]
     },
     "execution_count": 3,
     "metadata": {},
     "output_type": "execute_result"
    }
   ],
   "source": [
    "import numpy as np\n",
    "# Bir arrayın Shapeini kontrol etmek için .shape attribute u kullanılır\n",
    "# Bir arrayin shapei her boyuttaki öğelerinin sayısına eşittir\n",
    "\n",
    "arr2d = np.array([[1,2,3], [4,5,6], [10,20,30]])\n",
    "arr2d.shape #(3, 3)"
   ]
  },
  {
   "cell_type": "code",
   "execution_count": 4,
   "id": "b41fd949",
   "metadata": {},
   "outputs": [
    {
     "data": {
      "text/plain": [
       "(2, 4, 3)"
      ]
     },
     "execution_count": 4,
     "metadata": {},
     "output_type": "execute_result"
    }
   ],
   "source": [
    "arr3d = np.array([[[1,2,3],[4,5,6], [10,25,35], [40,50,60]], [[10,20,30], [5,10,20],[11,22,33],[44,55,66]]])\n",
    "arr3d \n",
    "arr3d.shape #2boyutlulardan 2 tane var(2, , ), her boyutta 4 satır 3 sütun(2,4,3) "
   ]
  },
  {
   "cell_type": "markdown",
   "id": "2bfe14d1",
   "metadata": {},
   "source": [
    "**Bir Array'i Reshape (Yeniden Şekillendirme) Etme:**         \n",
    ".reshape() metodu arrayin şeklini değiştirmeye yarar.                       \n",
    ".reshape() yaparken toplam eleman sayısını sabit tutmaya dikkat edilmeli.\n"
   ]
  },
  {
   "cell_type": "code",
   "execution_count": 5,
   "id": "cd09f63f",
   "metadata": {},
   "outputs": [
    {
     "name": "stdout",
     "output_type": "stream",
     "text": [
      "(2, 4, 3)\n"
     ]
    },
    {
     "data": {
      "text/plain": [
       "array([[ 1,  2,  3,  4,  5,  6, 10, 25, 35, 40, 50, 60],\n",
       "       [10, 20, 30,  5, 10, 20, 11, 22, 33, 44, 55, 66]])"
      ]
     },
     "execution_count": 5,
     "metadata": {},
     "output_type": "execute_result"
    }
   ],
   "source": [
    "arr3d\n",
    "print(arr3d.shape) #(2, 4, 3) 24 eleman var. eleman sayısı değişirse hata verir\n",
    "arr2d = arr3d.reshape(2,12) \n",
    "arr2d"
   ]
  },
  {
   "cell_type": "code",
   "execution_count": 6,
   "id": "001bda4a",
   "metadata": {},
   "outputs": [
    {
     "data": {
      "text/plain": [
       "array([[[  0,   1,   2,   3,   4,   5,   6,   7,   8,   9,  10,  11],\n",
       "        [ 12,  13,  14,  15,  16,  17,  18,  19,  20,  21,  22,  23]],\n",
       "\n",
       "       [[ 24,  25,  26,  27,  28,  29,  30,  31,  32,  33,  34,  35],\n",
       "        [ 36,  37,  38,  39,  40,  41,  42,  43,  44,  45,  46,  47]],\n",
       "\n",
       "       [[ 48,  49,  50,  51,  52,  53,  54,  55,  56,  57,  58,  59],\n",
       "        [ 60,  61,  62,  63,  64,  65,  66,  67,  68,  69,  70,  71]],\n",
       "\n",
       "       [[ 72,  73,  74,  75,  76,  77,  78,  79,  80,  81,  82,  83],\n",
       "        [ 84,  85,  86,  87,  88,  89,  90,  91,  92,  93,  94,  95]],\n",
       "\n",
       "       [[ 96,  97,  98,  99, 100, 101, 102, 103, 104, 105, 106, 107],\n",
       "        [108, 109, 110, 111, 112, 113, 114, 115, 116, 117, 118, 119]]])"
      ]
     },
     "execution_count": 6,
     "metadata": {},
     "output_type": "execute_result"
    }
   ],
   "source": [
    "#Bilinmeyen Boyut\n",
    "# .reshape() methodu kullanılırken hesaplamak istemediğimiz boyut yerine-1 yazıp otomatik hesaplattırabiliriz \n",
    "arr3d = np.arange(120).reshape(5,2,-1) #5*2*? = 120 -1 ile ? bulmakla uğraşmadık 12 boyut oldugunu kendi buldu\n",
    "arr3d"
   ]
  },
  {
   "cell_type": "code",
   "execution_count": 7,
   "id": "964ed92f",
   "metadata": {},
   "outputs": [
    {
     "name": "stdout",
     "output_type": "stream",
     "text": [
      "(2, 3, 10)\n"
     ]
    },
    {
     "data": {
      "text/plain": [
       "array([[[ 0,  1,  2,  3,  4,  5,  6,  7,  8,  9],\n",
       "        [10, 11, 12, 13, 14, 15, 16, 17, 18, 19],\n",
       "        [20, 21, 22, 23, 24, 25, 26, 27, 28, 29]],\n",
       "\n",
       "       [[30, 31, 32, 33, 34, 35, 36, 37, 38, 39],\n",
       "        [40, 41, 42, 43, 44, 45, 46, 47, 48, 49],\n",
       "        [50, 51, 52, 53, 54, 55, 56, 57, 58, 59]]])"
      ]
     },
     "execution_count": 7,
     "metadata": {},
     "output_type": "execute_result"
    }
   ],
   "source": [
    "#SORU: 0-59 59dahil arasındakş tam sayılardan oluşan bşr array oluşturun.\n",
    "#Bu arrayin shapesini değiştirerek istediğiniz shapelerde 3 boyutlu bir array elde edin.\n",
    "arr = np.arange(60).reshape(2,3,-1)\n",
    "print(arr.shape)\n",
    "arr\n"
   ]
  },
  {
   "cell_type": "markdown",
   "id": "e66ff9bc",
   "metadata": {},
   "source": [
    "**Arrayleri Düzleştirme(Flatten):**  \n",
    "Düzleştirme işlemi(flatten) çok boyutlu bir arrayi 1 boyutlu hale döndürmeye denir.    \n",
    "Basitçe .reshape(-1) metoduyla yapılır"
   ]
  },
  {
   "cell_type": "code",
   "execution_count": 8,
   "id": "540d8fa6",
   "metadata": {},
   "outputs": [
    {
     "name": "stdout",
     "output_type": "stream",
     "text": [
      "(8, 5)\n",
      "[[ 0  1  2  3  4]\n",
      " [ 5  6  7  8  9]\n",
      " [10 11 12 13 14]\n",
      " [15 16 17 18 19]\n",
      " [20 21 22 23 24]\n",
      " [25 26 27 28 29]\n",
      " [30 31 32 33 34]\n",
      " [35 36 37 38 39]]\n"
     ]
    },
    {
     "data": {
      "text/plain": [
       "array([ 0,  1,  2,  3,  4,  5,  6,  7,  8,  9, 10, 11, 12, 13, 14, 15, 16,\n",
       "       17, 18, 19, 20, 21, 22, 23, 24, 25, 26, 27, 28, 29, 30, 31, 32, 33,\n",
       "       34, 35, 36, 37, 38, 39])"
      ]
     },
     "execution_count": 8,
     "metadata": {},
     "output_type": "execute_result"
    }
   ],
   "source": [
    "arr2d = np.arange(40).reshape(8,5)\n",
    "print(arr2d.shape)\n",
    "print(arr2d)\n",
    "\n",
    "arr = arr2d.reshape(-1)\n",
    "arr\n"
   ]
  },
  {
   "cell_type": "code",
   "execution_count": 9,
   "id": "1dc3748e",
   "metadata": {},
   "outputs": [
    {
     "name": "stdout",
     "output_type": "stream",
     "text": [
      "3\n",
      "(2, 5, 3)\n"
     ]
    },
    {
     "data": {
      "text/plain": [
       "array([ 0,  1,  2,  3,  4,  5,  6,  7,  8,  9, 10, 11, 12, 13, 14, 15, 16,\n",
       "       17, 18, 19, 20, 21, 22, 23, 24, 25, 26, 27, 28, 29])"
      ]
     },
     "execution_count": 9,
     "metadata": {},
     "output_type": "execute_result"
    }
   ],
   "source": [
    "#SORU: 30 elemanlı 3 boyutlu bir array oluştur ve düzleştirin boyutunu, shapeimi kontrol edin\n",
    "arr = np.arange(30).reshape(2,5,-1)\n",
    "print(arr.ndim)\n",
    "print(arr.shape)\n",
    "arr.reshape(-1)"
   ]
  },
  {
   "cell_type": "markdown",
   "id": "d8ab00aa",
   "metadata": {},
   "source": [
    "**Çok Boyutlu Arraylerde Iteration(Yenileme)**"
   ]
  },
  {
   "cell_type": "code",
   "execution_count": 10,
   "id": "52380acb",
   "metadata": {},
   "outputs": [
    {
     "name": "stdout",
     "output_type": "stream",
     "text": [
      "0\n",
      "1\n",
      "2\n",
      "3\n",
      "4\n",
      "5\n",
      "6\n",
      "7\n",
      "8\n",
      "9\n"
     ]
    }
   ],
   "source": [
    "arr1d = np.arange(10)\n",
    "arr1d \n",
    "for x in arr1d:\n",
    "    print(x)\n",
    "    "
   ]
  },
  {
   "cell_type": "code",
   "execution_count": 11,
   "id": "7a22d053",
   "metadata": {},
   "outputs": [
    {
     "name": "stdout",
     "output_type": "stream",
     "text": [
      "[[ 0  1  2  3  4]\n",
      " [ 5  6  7  8  9]\n",
      " [10 11 12 13 14]\n",
      " [15 16 17 18 19]]\n",
      "-------------------\n",
      "[0 1 2 3 4]\n",
      "[5 6 7 8 9]\n",
      "[10 11 12 13 14]\n",
      "[15 16 17 18 19]\n"
     ]
    }
   ],
   "source": [
    "arr2d = np.arange(20).reshape(4,5)\n",
    "print(arr2d)\n",
    "print('-------------------')\n",
    "for x in arr2d:\n",
    "    print(x) "
   ]
  },
  {
   "cell_type": "code",
   "execution_count": 12,
   "id": "553d8c1b",
   "metadata": {},
   "outputs": [
    {
     "name": "stdout",
     "output_type": "stream",
     "text": [
      "0\n",
      "1\n",
      "2\n",
      "3\n",
      "4\n",
      "5\n",
      "6\n",
      "7\n",
      "8\n",
      "9\n",
      "10\n",
      "11\n",
      "12\n",
      "13\n",
      "14\n",
      "15\n",
      "16\n",
      "17\n",
      "18\n",
      "19\n"
     ]
    }
   ],
   "source": [
    "for x in arr2d:\n",
    "    for y in x:\n",
    "        print(y)\n"
   ]
  },
  {
   "cell_type": "code",
   "execution_count": 13,
   "id": "73c8aae3",
   "metadata": {},
   "outputs": [
    {
     "data": {
      "text/plain": [
       "array([[[ 0,  1,  2,  3,  4],\n",
       "        [ 5,  6,  7,  8,  9],\n",
       "        [10, 11, 12, 13, 14]],\n",
       "\n",
       "       [[15, 16, 17, 18, 19],\n",
       "        [20, 21, 22, 23, 24],\n",
       "        [25, 26, 27, 28, 29]]])"
      ]
     },
     "execution_count": 13,
     "metadata": {},
     "output_type": "execute_result"
    }
   ],
   "source": [
    "arr3d = np.arange(30).reshape(-1,3,5)\n",
    "arr3d \n"
   ]
  },
  {
   "cell_type": "markdown",
   "id": "0fe7e35e",
   "metadata": {},
   "source": [
    "**Çok Boyutlu Arraylerde nditer() Kullanımı**  \n",
    "For döngüsü arrayin boyutu kadar sayıda kullanılırsa arrayin bütün elemanlarına tek tek erişebiliriz.  \n",
    "Çok boyutlu arraylerde nditer() fonku bunun için geliştirilmiştir.  \n",
    "For döngüsünden .çok daha efektif ve hızlı bir şekilde tüm elemanları dönmemizi sağlar.  \n"
   ]
  },
  {
   "cell_type": "code",
   "execution_count": 14,
   "id": "dcaa8544",
   "metadata": {},
   "outputs": [
    {
     "data": {
      "text/plain": [
       "array([[[ 0,  1,  2,  3,  4],\n",
       "        [ 5,  6,  7,  8,  9],\n",
       "        [10, 11, 12, 13, 14]],\n",
       "\n",
       "       [[15, 16, 17, 18, 19],\n",
       "        [20, 21, 22, 23, 24],\n",
       "        [25, 26, 27, 28, 29]]])"
      ]
     },
     "execution_count": 14,
     "metadata": {},
     "output_type": "execute_result"
    }
   ],
   "source": [
    "arr3d"
   ]
  },
  {
   "cell_type": "code",
   "execution_count": 15,
   "id": "03ad0437",
   "metadata": {},
   "outputs": [
    {
     "name": "stdout",
     "output_type": "stream",
     "text": [
      "0\n",
      "1\n",
      "2\n",
      "3\n",
      "4\n",
      "5\n",
      "6\n",
      "7\n",
      "8\n",
      "9\n",
      "10\n",
      "11\n",
      "12\n",
      "13\n",
      "14\n",
      "15\n",
      "16\n",
      "17\n",
      "18\n",
      "19\n",
      "20\n",
      "21\n",
      "22\n",
      "23\n",
      "24\n",
      "25\n",
      "26\n",
      "27\n",
      "28\n",
      "29\n"
     ]
    }
   ],
   "source": [
    "for x in np.nditer(arr3d):\n",
    "    print(x)"
   ]
  },
  {
   "cell_type": "code",
   "execution_count": 16,
   "id": "5fcb0ba8",
   "metadata": {},
   "outputs": [
    {
     "name": "stdout",
     "output_type": "stream",
     "text": [
      "0\n",
      "1\n",
      "2\n",
      "3\n",
      "4\n",
      "5\n",
      "6\n",
      "7\n",
      "8\n",
      "9\n",
      "10\n",
      "11\n",
      "12\n",
      "13\n",
      "14\n",
      "15\n",
      "16\n",
      "17\n",
      "18\n",
      "19\n",
      "20\n",
      "21\n",
      "22\n",
      "23\n",
      "24\n",
      "25\n",
      "26\n",
      "27\n",
      "28\n",
      "29\n",
      "30\n",
      "31\n",
      "32\n",
      "33\n",
      "34\n",
      "35\n",
      "36\n",
      "37\n",
      "38\n",
      "39\n",
      "40\n",
      "41\n",
      "42\n",
      "43\n",
      "44\n",
      "45\n",
      "46\n",
      "47\n",
      "48\n",
      "49\n",
      "50\n",
      "51\n",
      "52\n",
      "53\n",
      "54\n",
      "55\n",
      "56\n",
      "57\n",
      "58\n",
      "59\n",
      "60\n",
      "61\n",
      "62\n",
      "63\n",
      "64\n",
      "65\n",
      "66\n",
      "67\n",
      "68\n",
      "69\n",
      "70\n",
      "71\n",
      "72\n",
      "73\n",
      "74\n",
      "75\n",
      "76\n",
      "77\n",
      "78\n",
      "79\n",
      "80\n",
      "81\n",
      "82\n",
      "83\n",
      "84\n",
      "85\n",
      "86\n",
      "87\n",
      "88\n",
      "89\n",
      "90\n",
      "91\n",
      "92\n",
      "93\n",
      "94\n",
      "95\n",
      "96\n",
      "97\n",
      "98\n",
      "99\n",
      "100\n",
      "101\n",
      "102\n",
      "103\n",
      "104\n",
      "105\n",
      "106\n",
      "107\n",
      "108\n",
      "109\n",
      "110\n",
      "111\n",
      "112\n",
      "113\n",
      "114\n",
      "115\n",
      "116\n",
      "117\n",
      "118\n",
      "119\n"
     ]
    }
   ],
   "source": [
    "#SORU: 0-119dahil toplam 120 elemanlı bir array oluşturun ve arrayin shapeni ayarlayarak 3 boyutlu hale getirin\n",
    "# devamında da içindeki tüm elemanları tek tek dönün\n",
    "arr = np.arange(120).reshape(5,2,-1)\n",
    "for x in np.nditer(arr):\n",
    "    print(x)"
   ]
  },
  {
   "cell_type": "code",
   "execution_count": 17,
   "id": "7e6012f3",
   "metadata": {},
   "outputs": [
    {
     "name": "stdout",
     "output_type": "stream",
     "text": [
      "[15 27 59 99]\n",
      "[15 27 59 99]\n",
      "[  5  13  41 101]\n",
      "[  5  13  41 101]\n"
     ]
    },
    {
     "data": {
      "text/plain": [
       "array([   2,    2,    5, -100])"
      ]
     },
     "execution_count": 17,
     "metadata": {},
     "output_type": "execute_result"
    }
   ],
   "source": [
    "# Array Elemanları Arasında 4 İşlem\n",
    "arr1 = np.array([10,20,50,100])\n",
    "arr2 = np.array([5,7,9,-1])\n",
    "print(arr1 + arr2)\n",
    "print(arr1.__add__(arr2))\n",
    "print(arr1 - arr2)\n",
    "print(arr1.__sub__(arr2))\n",
    "arr1*arr2\n",
    "arr1/arr2\n",
    "arr1//arr2"
   ]
  },
  {
   "cell_type": "markdown",
   "id": "ff8addd3",
   "metadata": {},
   "source": [
    "**Bir Arrayin Toplamına/Ortalamasına/Varyansına/Standart Sapmasına Bakma**"
   ]
  },
  {
   "cell_type": "code",
   "execution_count": 18,
   "id": "3a4da903",
   "metadata": {},
   "outputs": [
    {
     "data": {
      "text/plain": [
       "array([7, 2, 2, 5, 1, 0, 8, 0, 1, 5], dtype=int32)"
      ]
     },
     "execution_count": 18,
     "metadata": {},
     "output_type": "execute_result"
    }
   ],
   "source": [
    "arr = np.random.randint(0,10, 10)\n",
    "arr"
   ]
  },
  {
   "cell_type": "code",
   "execution_count": 19,
   "id": "ac60f3b7",
   "metadata": {},
   "outputs": [
    {
     "data": {
      "text/plain": [
       "np.int64(31)"
      ]
     },
     "execution_count": 19,
     "metadata": {},
     "output_type": "execute_result"
    }
   ],
   "source": [
    "arr.sum()"
   ]
  },
  {
   "cell_type": "code",
   "execution_count": 20,
   "id": "d06217c8",
   "metadata": {},
   "outputs": [
    {
     "data": {
      "text/plain": [
       "np.float64(3.1)"
      ]
     },
     "execution_count": 20,
     "metadata": {},
     "output_type": "execute_result"
    }
   ],
   "source": [
    "arr.mean() #ortalama "
   ]
  },
  {
   "cell_type": "code",
   "execution_count": 21,
   "id": "0e4bf69d",
   "metadata": {},
   "outputs": [
    {
     "data": {
      "text/plain": [
       "np.float64(7.69)"
      ]
     },
     "execution_count": 21,
     "metadata": {},
     "output_type": "execute_result"
    }
   ],
   "source": [
    "arr.var() #bir veri kümesindeki farkın ne kadar büyük olduğunun istatistiksel bir ölçüsüdür."
   ]
  },
  {
   "cell_type": "code",
   "execution_count": 22,
   "id": "b73d358f",
   "metadata": {},
   "outputs": [
    {
     "data": {
      "text/plain": [
       "np.float64(2.7730849247724096)"
      ]
     },
     "execution_count": 22,
     "metadata": {},
     "output_type": "execute_result"
    }
   ],
   "source": [
    "arr.std() #varyansın karekökü "
   ]
  },
  {
   "cell_type": "code",
   "execution_count": 23,
   "id": "3aaf6458",
   "metadata": {},
   "outputs": [
    {
     "data": {
      "text/plain": [
       "array([2.64575131, 1.41421356, 1.41421356, 2.23606798, 1.        ,\n",
       "       0.        , 2.82842712, 0.        , 1.        , 2.23606798])"
      ]
     },
     "execution_count": 23,
     "metadata": {},
     "output_type": "execute_result"
    }
   ],
   "source": [
    "np.sqrt(arr) #ayrı kareköklerini alır "
   ]
  },
  {
   "cell_type": "code",
   "execution_count": 24,
   "id": "3570f825",
   "metadata": {},
   "outputs": [
    {
     "data": {
      "text/plain": [
       "array([ 0.6569866 ,  0.90929743,  0.90929743, -0.95892427,  0.84147098,\n",
       "        0.        ,  0.98935825,  0.        ,  0.84147098, -0.95892427])"
      ]
     },
     "execution_count": 24,
     "metadata": {},
     "output_type": "execute_result"
    }
   ],
   "source": [
    "np.sin(arr) "
   ]
  },
  {
   "cell_type": "code",
   "execution_count": 25,
   "id": "640a81c8",
   "metadata": {},
   "outputs": [
    {
     "name": "stdout",
     "output_type": "stream",
     "text": [
      "[55 16 23 95 41 17 18  4 73 14]\n",
      "356\n",
      "35.6\n",
      "95\n",
      "799.6400000000001\n",
      "28.277906570324475\n"
     ]
    }
   ],
   "source": [
    "#SORU: 0-100 arası rastgele 10 tam sayıdan olusan arrayın üstteki değerlerini bul\n",
    "arr2 = np.random.randint(0,100,10)\n",
    "print(arr2)\n",
    "print(arr2.sum())\n",
    "print(arr2.mean())\n",
    "print(arr2.max())\n",
    "print(arr2.var())\n",
    "print(arr2.std())\n",
    "\n",
    "\n"
   ]
  },
  {
   "cell_type": "markdown",
   "id": "f4c5e8fb",
   "metadata": {},
   "source": [
    "**Numpy Arraylerini Birleştirme (Concatanate)**  \n",
    "Numpy arraylerini birleştirme işlemi .contaneate() fonk ile yapılır. Fonksiyonun içine liste halinde birleştirilecek arrayler verilir.  \n",
    "np.concatenate([arr1,arr2], axis = 1)"
   ]
  },
  {
   "cell_type": "code",
   "execution_count": 31,
   "id": "8fc75946",
   "metadata": {},
   "outputs": [
    {
     "data": {
      "text/plain": [
       "array([ 10,  20,  30,  70, 100, 200, 600, 900])"
      ]
     },
     "execution_count": 31,
     "metadata": {},
     "output_type": "execute_result"
    }
   ],
   "source": [
    "arr1 = np.array([10,20,30,70])\n",
    "arr2 = np.array([100,200,600,900])\n",
    "np.concatenate([arr1,arr2] , axis = 0) #axis 0 satır halinde yan yana birleştirir.\n",
    "# np.concatenate([arr1,arr2], axis = 1)  hata çünkü axis = 1 diye bir eksen yok tek boyurlu dizilerle yapmaya çalıştığım için hata verdi\n"
   ]
  },
  {
   "cell_type": "code",
   "execution_count": 34,
   "id": "2afec917",
   "metadata": {},
   "outputs": [
    {
     "data": {
      "text/plain": [
       "array([[ 10, 100],\n",
       "       [ 20, 200],\n",
       "       [ 30, 600],\n",
       "       [ 70, 900]])"
      ]
     },
     "execution_count": 34,
     "metadata": {},
     "output_type": "execute_result"
    }
   ],
   "source": [
    "# eğer sütun bazlı birleştirme yapmak istiyorsak reshape ile boyut değiştirebiliriz \n",
    "arr1 = arr1.reshape(4, 1)\n",
    "arr2 = arr2.reshape(4, 1)\n",
    "np.concatenate([arr1, arr2], axis = 1)\n",
    "# np.concatenate([arr1, arr2], axis = 0)\n"
   ]
  },
  {
   "cell_type": "markdown",
   "id": "7e6f1770",
   "metadata": {},
   "source": [
    "**Arrayleri Stackleme(Yığınlama) İşlemleri**  \n",
    "Concatenate işlemiyle benzerdir. farklı olarak yeni bir boyut(eksen) üzerinde yığınlamalar yapmasıdır."
   ]
  },
  {
   "cell_type": "markdown",
   "id": "872f4a5a",
   "metadata": {},
   "source": []
  },
  {
   "cell_type": "code",
   "execution_count": null,
   "id": "88998d76",
   "metadata": {},
   "outputs": [
    {
     "data": {
      "text/plain": [
       "array([[[ 10],\n",
       "        [ 20],\n",
       "        [ 30],\n",
       "        [ 70]],\n",
       "\n",
       "       [[100],\n",
       "        [200],\n",
       "        [600],\n",
       "        [900]]])"
      ]
     },
     "execution_count": 37,
     "metadata": {},
     "output_type": "execute_result"
    }
   ],
   "source": [
    "np.concatenate([arr1, arr2], axis = 1)\n",
    "np.stack([arr1, arr2], axis = 0)#yeni bir ek boyut ekleyerek yığınlamayı yapar."
   ]
  },
  {
   "cell_type": "markdown",
   "id": "17652e6e",
   "metadata": {},
   "source": []
  },
  {
   "cell_type": "code",
   "execution_count": 38,
   "id": "df27e723",
   "metadata": {},
   "outputs": [],
   "source": [
    "# np.hstack() -> satır boyunca yığınlama\n",
    "# np.vstack() -> sütun boyunca yığınlama "
   ]
  },
  {
   "cell_type": "markdown",
   "id": "7b62cb1c",
   "metadata": {},
   "source": [
    "**NumPy Arraylerinde Arama**  \n",
    "Aradığımız değerlerin bulunduğu indexleri döndürmek için np.where() fonk kullanırız.  \n",
    "np.where() içerisine argüman olarak condition(şart) alır."
   ]
  },
  {
   "cell_type": "code",
   "execution_count": 39,
   "id": "096b4708",
   "metadata": {},
   "outputs": [
    {
     "data": {
      "text/plain": [
       "array([1, 2, 5, 6, 7, 7, 9, 2, 2, 2])"
      ]
     },
     "execution_count": 39,
     "metadata": {},
     "output_type": "execute_result"
    }
   ],
   "source": [
    "arr = np.array([1,2,5,6,7,7,9,2,2,2])\n",
    "arr"
   ]
  },
  {
   "cell_type": "code",
   "execution_count": 41,
   "id": "4b563ed7",
   "metadata": {},
   "outputs": [
    {
     "data": {
      "text/plain": [
       "(array([6]),)"
      ]
     },
     "execution_count": 41,
     "metadata": {},
     "output_type": "execute_result"
    }
   ],
   "source": [
    "np.where(arr==9) #arrain kaçıncı indexlerinde 9 oldugunu söyler "
   ]
  },
  {
   "cell_type": "code",
   "execution_count": 42,
   "id": "7fc4bbdb",
   "metadata": {},
   "outputs": [
    {
     "data": {
      "text/plain": [
       "(array([1, 7, 8, 9]),)"
      ]
     },
     "execution_count": 42,
     "metadata": {},
     "output_type": "execute_result"
    }
   ],
   "source": [
    "np.where(arr==2)"
   ]
  },
  {
   "cell_type": "code",
   "execution_count": 43,
   "id": "b99ea21e",
   "metadata": {},
   "outputs": [
    {
     "data": {
      "text/plain": [
       "(array([0, 2, 4, 5, 6]),)"
      ]
     },
     "execution_count": 43,
     "metadata": {},
     "output_type": "execute_result"
    }
   ],
   "source": [
    "np.where(arr%2 != 0) #tek elemanların indexlerini çekmiş olduk."
   ]
  },
  {
   "cell_type": "markdown",
   "id": "02898fac",
   "metadata": {},
   "source": [
    "**NumPy'da Random Kütüphanesi**  \n",
    "Random diye ayrı bir kütüphane olmasının yanı sıra Numpy kütüphanesinin içinde random adında bir modül de bulunur.  \n",
    "Numpyıın içindeki random modülü normal random kütüphanesinden daha kapsamlıdır."
   ]
  },
  {
   "cell_type": "code",
   "execution_count": 47,
   "id": "edaa0871",
   "metadata": {},
   "outputs": [
    {
     "data": {
      "text/plain": [
       "0.8814252203212621"
      ]
     },
     "execution_count": 47,
     "metadata": {},
     "output_type": "execute_result"
    }
   ],
   "source": [
    "# form numpy import random şeklinde alablriz ama gerek yok \n",
    "import numpy as np \n",
    "np.random.rand() #0-1 arası rastgele sayı döndürür."
   ]
  },
  {
   "cell_type": "code",
   "execution_count": 49,
   "id": "30959dd5",
   "metadata": {},
   "outputs": [
    {
     "data": {
      "text/plain": [
       "array([-2.23399303,  0.23345325, -0.93728538, -0.12372645,  0.58029143])"
      ]
     },
     "execution_count": 49,
     "metadata": {},
     "output_type": "execute_result"
    }
   ],
   "source": [
    "np.random.randn(5) #rastgele normal dağılımlı sayı üretir. #sadece standart normal dağılım üretir.  \n",
    "# np.random.randn(n), standart normal dağılımdan (ortalama 0, standart sapma 1) n tane rastgele sayı üretir."
   ]
  },
  {
   "cell_type": "code",
   "execution_count": 48,
   "id": "8a1e9f09",
   "metadata": {},
   "outputs": [
    {
     "data": {
      "text/plain": [
       "array([19, 19, 28, 12, 25], dtype=int32)"
      ]
     },
     "execution_count": 48,
     "metadata": {},
     "output_type": "execute_result"
    }
   ],
   "source": [
    "np.random.randint(low = 10, high = 30,size = 5)"
   ]
  },
  {
   "cell_type": "code",
   "execution_count": 54,
   "id": "8a8e29d7",
   "metadata": {},
   "outputs": [
    {
     "data": {
      "text/plain": [
       "array([1, 2, 5, 6, 7, 7, 9, 2, 2, 2])"
      ]
     },
     "execution_count": 54,
     "metadata": {},
     "output_type": "execute_result"
    }
   ],
   "source": [
    "arr"
   ]
  },
  {
   "cell_type": "code",
   "execution_count": 55,
   "id": "ca9bd26e",
   "metadata": {},
   "outputs": [
    {
     "data": {
      "text/plain": [
       "np.int64(5)"
      ]
     },
     "execution_count": 55,
     "metadata": {},
     "output_type": "execute_result"
    }
   ],
   "source": [
    "np.random.choice(arr) #diziden rastgele sayı çeker."
   ]
  },
  {
   "cell_type": "code",
   "execution_count": null,
   "id": "bbd45ec8",
   "metadata": {},
   "outputs": [
    {
     "data": {
      "text/plain": [
       "np.int64(3)"
      ]
     },
     "execution_count": 58,
     "metadata": {},
     "output_type": "execute_result"
    }
   ],
   "source": [
    "np.random.choice([3,-1,15]) #bu sayılardan rastgele birini döndürür"
   ]
  }
 ],
 "metadata": {
  "kernelspec": {
   "display_name": ".venv",
   "language": "python",
   "name": "python3"
  },
  "language_info": {
   "codemirror_mode": {
    "name": "ipython",
    "version": 3
   },
   "file_extension": ".py",
   "mimetype": "text/x-python",
   "name": "python",
   "nbconvert_exporter": "python",
   "pygments_lexer": "ipython3",
   "version": "3.12.6"
  }
 },
 "nbformat": 4,
 "nbformat_minor": 5
}
