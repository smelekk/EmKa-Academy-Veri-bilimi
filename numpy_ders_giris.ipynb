{
 "cells": [
  {
   "cell_type": "markdown",
   "id": "6cc94b8c",
   "metadata": {},
   "source": [
    "# NumPy Nedir? \n",
    "Açık kaynaklı kodlu özgür bir python kütüphanesidir\n",
    "Numerical Python anlamına gelir. Sayılarla daha hızlı matematik işlemler yapmamızı sağlar. \n",
    "Numpy kütüphanesinin en temel elemanı array(dizi)dir.\n",
    "Arrayleri Python dizilerin çok boyutlu olanı gibidir.\n",
    "Arrayler listelerden yaklaşık 50 kat hızlı çalışır.\n",
    "Numpy arraylerinin hızlı çalışmasının sebebi bu kütüphanein büyük oranda c ve c++ ile yazılmış olmasıdır."
   ]
  },
  {
   "cell_type": "markdown",
   "id": "8fbbe2d2",
   "metadata": {},
   "source": [
    "# NumPy arrayleri oluşturma\n",
    "Arrayler çok boyutlu diziler gibi düşünülebilir.\n",
    "Arrayleri üç farklı şekilde oluşturabiliriz.\n",
    "    \n",
    "    1-Liste ya da tuple benzeri nesneleri arraye döndürebiliriz. --> np.array([1,2,3])\n",
    "\n",
    "    2-Built-in hazır fonksiyonlar yardımıyla arrayler oluşturabiliriz. --> np.arange(), np.linspace(), np.logspace() vb.\n",
    "\n",
    "    3-Rastgele data üreterek --> np.random içerisindeki fonklar yardımıyla"
   ]
  },
  {
   "cell_type": "code",
   "execution_count": null,
   "id": "411d4a7b",
   "metadata": {},
   "outputs": [
    {
     "name": "stdout",
     "output_type": "stream",
     "text": [
      "53\n",
      "[1 2 3 4 5 6 7 8 9]\n",
      "[1 2 3 4 5 6 7 8 9]\n",
      "[30 32 34 36 38 40 42 44 46 48 50 52 54 56 58 60 62 64 66 68 70 72 74 76\n",
      " 78 80 82 84 86 88 90 92 94 96 98]\n"
     ]
    },
    {
     "data": {
      "text/plain": [
       "array([[1, 2, 3],\n",
       "       [4, 5, 6]])"
      ]
     },
     "execution_count": 53,
     "metadata": {},
     "output_type": "execute_result"
    }
   ],
   "source": [
    "import numpy as np\n",
    "arr0d = np.array(53)\n",
    "arr1d = np.array([1,2,3,4])\n",
    "arr2d = np.array([[1,2,3], [4,5,6]])\n",
    "print(arr0d)\n",
    "arr1d\n",
    "arr2d\n",
    "#Built-in Functionlarla Hızlıca Arrayleri Oluşturma\n",
    "#np.arange() fonksiyonu ile hızlıca istediğimiz sayı aralığında ardışık artan arrayler oluşturabiliriz.\n",
    "#Kullanımı range() gibi. Start point dahil, End point dahil değil.(start-stop-step parametrelerini alır.)\n",
    "print(np.array([1,2,3,4,5,6,7,8,9]))\n",
    "print(np.arange(1,10))\n",
    "print(np.arange(30,100,2))\n",
    "\n",
    "# np.linspace() fonk ile de hızlıca arrayler oluşturabiliriz\n",
    "np.linspace(30,50,6) #endpoint burada dahil\n",
    "\n",
    "np.logspace(1,3,10) #10 ile 1000 arasında logaritmik artan 10 tane veriden oluşanarray oluşturdu.\n",
    "\n",
    "#SORU: 10,15,20,25...100 şeklindeki arrayi oluştur\n",
    "np.arange(10,101,5)\n",
    "#SORU: 0-1000 arasında eşit aralıklarla ilerleyen 26 tane sayı oluşturun\n",
    "np.linspace(0,1000,26)\n",
    "\n",
    "np.zeros(5, dtype='int')  #sıfırlardan oluşan array oluşturur\n",
    "np.zeros((2,3), dtype=int)\n",
    "np.ones(10, dtype=int)    #birlerden oluşan array oluşturur\n",
    "np.ones((2,3), dtype=int)\n",
    "np.eye(5, dtype=int)      #birim matris \n",
    "\n",
    "#SORU: Sadece 0 değerlerindenoluşam (2,6) formatında array oluşturun.\n",
    "np.zeros((2,6), dtype=int)\n",
    "\n",
    "### np.random modülü kullanarak rastgele verilerle arrayler oluşturmak\n",
    "# np.random.fonksiyon - npdeki random modülünden hangi fonk çağırmak isteriz\n",
    "np.random.rand(3) #0 ile 1 arasındaki değerlerden oluşan bir array oluşturur.\n",
    "np.random.rand(2,5)\n",
    "# np.random.rand(3) * 10 dersek 0 ile 10 arasından değerler oluşturur ama önerilmez\n",
    "# np.random.randint(low, high, size) \n",
    "np.random.randint(15,50,5)\n",
    "np.random.randint(0,100,(3,6))\n",
    "\n",
    "# SORU: 0ile 50 arasında rastgele sayılardan oluşan 4-6 formatında 24 tane sayıdan oluşan bir array oluşturun.\n",
    "np.random.randint(0,50,(4,6))"
   ]
  },
  {
   "cell_type": "code",
   "execution_count": 115,
   "id": "21e6e963",
   "metadata": {},
   "outputs": [
    {
     "data": {
      "text/plain": [
       "dtype('int64')"
      ]
     },
     "execution_count": 115,
     "metadata": {},
     "output_type": "execute_result"
    }
   ],
   "source": [
    "#Arrayin Boyut Sayısını ve Shape'i Kontrol Etmek \n",
    "# .ndim attribute'ı ile arrayimizin kaç boyutlu olduğuna bakabiliriz.\n",
    "arr0d.ndim\n",
    "arr1d.ndim\n",
    "arr2d.ndim\n",
    "arr2d.shape  #arrayin shapeine bakılır\n",
    "\n",
    "#NumPY Arraylerini İndeksleme ve Öğelerine Erişme \n",
    "arr1d #1 boyutlu arrayler aynı listeler gibi düşünülebilir \n",
    "arr2d[0] #0. satırı verir \n",
    "arr2d[0][1]\n",
    "arr3d = np.array([[[1,2,3], [4,5,6]], [[7,8,9], [100,200,300]]])\n",
    "arr3d.ndim      #  |     0. kısım  |  |          1.kısım     |\n",
    "arr3d[0][1][2]  #arr3d[0,1,2] şeklinde de yazılabilir. negatif indeksleme de yapılabilir\n",
    "\n",
    "#SORU: 53den 61e kadar (ikisi dahil) olan tam sayıları içeren bir array oluşturun. ardından 4. i ndeksteki sayıyı ekrana bastırın \n",
    "listm = np.arange(53,62)\n",
    "listm[4]\n",
    "\n",
    "#NumPy Dizilerinin Max ve Min Elemanlarına ve Bu Elemanların İndexlerine Erişme \n",
    "arr = np.random.randint(1,100,10)\n",
    "arr.max()\n",
    "arr.argmax()\n",
    "arr.min()\n",
    "arr.argmin()\n",
    "\n",
    "#NumPy Arraylerinde Slicing (dilimleme) yapılabilir.\n",
    "arr = np.arange(50,65)\n",
    "arr\n",
    "#55 ile 60 arasını çekelim 5 ile10 insexlere kadar al \n",
    "arr[5:11]\n",
    "arr[-5:]\n",
    "arr[2:10:2] #2şer atlayarak alır \n",
    "arr[5:11] = 999 #Broadcasting -belirli aralığı kesip baska bir değere eşitleme\n",
    "arr            \n",
    "arr[5:11]\n",
    "# SORU: -30 ile 10 (ikisi dahil) arasındaki tam sayılardan oluşan bir array oluşturun ardından slicing yaparak\n",
    "#5. ve 18. indexler arasındaki sayılardan (ikisi dahil) oluşan bi array oluşturun\n",
    "arr = np.arange(-30,11) \n",
    "arr[5:19]\n",
    "\n",
    "#Bir Arrayin Veri Türünü(Data Type'ını) kontrol etmek \n",
    "# .dtype attribute ı ile arrayimizin data type ı kontrol edilebilir.\n",
    "arr.dtype\n",
    "arr2 = np.arange(100, dtype = 'float') \n",
    "arr2.dtype\n",
    "arr3 = np.array(['a', 'b', 'c'])\n",
    "arr3  \n",
    "\n",
    "#Bir arrayin dtypeını değiştirme \n",
    "# .astype() metodu ile arraylerin dtype'ı değiştirilebilir.\n",
    "arr = np.array([1.2, 3.5, 5.8])\n",
    "arr.dtype \n",
    "arr.astype('int')\n",
    "\n",
    "#SORU: şeklindeki arrayn typenı inte döndür dtype kontrol et \n",
    "arr = np.array(['5','7', '4'])\n",
    "arr.dtype \n",
    "arr.astype('int')\n",
    "arr #gerçek arr inte dönmedi \n",
    "arr = arr.astype(int)\n",
    "arr \n",
    "arr.dtype\n",
    "\n"
   ]
  }
 ],
 "metadata": {
  "kernelspec": {
   "display_name": ".venv",
   "language": "python",
   "name": "python3"
  },
  "language_info": {
   "codemirror_mode": {
    "name": "ipython",
    "version": 3
   },
   "file_extension": ".py",
   "mimetype": "text/x-python",
   "name": "python",
   "nbconvert_exporter": "python",
   "pygments_lexer": "ipython3",
   "version": "3.12.6"
  }
 },
 "nbformat": 4,
 "nbformat_minor": 5
}
