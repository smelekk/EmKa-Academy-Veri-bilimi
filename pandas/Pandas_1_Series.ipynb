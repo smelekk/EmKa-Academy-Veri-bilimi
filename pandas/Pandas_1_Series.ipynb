{
 "cells": [
  {
   "cell_type": "markdown",
   "id": "2c6929d4",
   "metadata": {},
   "source": [
    "# Pandas Nedir?  \n",
    "Açık kaynaklı ve yüksek performanslı bir veri analizi kütüphanesidir. Adını \"Panel Data\" dan almıştır. Özellikle tablo şeklindeki verilerle çalışmayı kolaylaştırır.   \n",
    "Pandası anlamak için iki temel veri yapısını açıklayalım:  \n",
    "**-Series (Seriler):** Tek boyutlu etiketli bir dizidir.Basit bir liste veya bir sütun gibi düşünülebilir. Her bir veriye özel bir \"indeks\" etiketi atanır ve verilere hızlıca erişlebilir.  \n",
    "**-DataFrame (Veri Çerçeveleri):** İki boyutlu, etiketli bir veri yapısıdır.Satır ve sütunlardan oluşan bir tablo olarak düşünülebilir. Her bir sütun aslında bir \"Series\" objesidir. Excel'deki bir sayfaya veya bir SQL tablosuna çok benzer. Veri setlerinin büyük çoğunluğu bu formatta tutulur ve analiz edilir.  \n",
    "Özet mantık: elimizdeki karmaşık veri setini üzerinde işlem yapılabilecek düzenli bir tablo(DateFrame) haline getirmek ve bu tablonun sütunları(series) veya satırları üzerinde analizler yapmaktır.  \n",
    "Pandas veri okuma yazma temizleme ön işleme birleştirme ve analiz etme gibi işlemler için kullanılır. "
   ]
  },
  {
   "cell_type": "markdown",
   "id": "7333a53e",
   "metadata": {},
   "source": [
    "**Pandas Nedir?**  \n",
    "Pandas açık kaynaklı ve ücretsiz veri(bilgi) işleme, manipüle etme, temizleme vb. işlemleri yapabileceğimiz oldukça efektif kütüphanedir.  \n",
    "Pandas kütüphanesi NumPy kütüp üzerine kurulmus bir kütüphanedir.  \n",
    "PAndan elimizdeki veriyi(bilgiyi) şekillendirip işlememize ve veriden anlamlı sonuçlar çıkarmamıza olanak sağlar.  \n",
    "Pandas kütüphanesinin temel elemanları Series ve DataFramedir.Bu nesneleri excel tabloları gibi düşünebiliriz.  \n",
    "\n"
   ]
  },
  {
   "cell_type": "markdown",
   "id": "50e700bd",
   "metadata": {},
   "source": [
    "**Pandas'ı Import Etme**"
   ]
  },
  {
   "cell_type": "code",
   "execution_count": null,
   "id": "74321a54",
   "metadata": {},
   "outputs": [
    {
     "name": "stdout",
     "output_type": "stream",
     "text": [
      "Requirement already satisfied: pandas in c:\\users\\sudem\\desktop\\yeni klasör\\.venv\\lib\\site-packages (2.3.3)\n",
      "Requirement already satisfied: numpy>=1.26.0 in c:\\users\\sudem\\desktop\\yeni klasör\\.venv\\lib\\site-packages (from pandas) (2.3.3)\n",
      "Requirement already satisfied: python-dateutil>=2.8.2 in c:\\users\\sudem\\desktop\\yeni klasör\\.venv\\lib\\site-packages (from pandas) (2.9.0.post0)\n",
      "Requirement already satisfied: pytz>=2020.1 in c:\\users\\sudem\\desktop\\yeni klasör\\.venv\\lib\\site-packages (from pandas) (2025.2)\n",
      "Requirement already satisfied: tzdata>=2022.7 in c:\\users\\sudem\\desktop\\yeni klasör\\.venv\\lib\\site-packages (from pandas) (2025.2)\n",
      "Requirement already satisfied: six>=1.5 in c:\\users\\sudem\\desktop\\yeni klasör\\.venv\\lib\\site-packages (from python-dateutil>=2.8.2->pandas) (1.17.0)\n"
     ]
    }
   ],
   "source": [
    "# !pip install pandas"
   ]
  },
  {
   "cell_type": "markdown",
   "id": "07bbe02c",
   "metadata": {},
   "source": [
    "**Series Oluşturma**"
   ]
  },
  {
   "cell_type": "code",
   "execution_count": 5,
   "id": "6d54c569",
   "metadata": {},
   "outputs": [],
   "source": [
    "import pandas as pd "
   ]
  },
  {
   "cell_type": "code",
   "execution_count": null,
   "id": "0e96c031",
   "metadata": {},
   "outputs": [
    {
     "data": {
      "text/plain": [
       "0    Emircan\n",
       "1      Alper\n",
       "2      Burak\n",
       "dtype: object"
      ]
     },
     "execution_count": 18,
     "metadata": {},
     "output_type": "execute_result"
    }
   ],
   "source": [
    "my_data = ['Emircan', 'Alper', 'Burak', 'Dilara', 'Zeynep']\n",
    "my_data\n",
    "# pd.Series() fonksiyonu ile elimizdeki verileri Series haline getirebiliriz.\n",
    "pd.Series(my_data)"
   ]
  },
  {
   "cell_type": "code",
   "execution_count": 21,
   "id": "5befb17b",
   "metadata": {},
   "outputs": [
    {
     "data": {
      "text/plain": [
       "Türkiye    1923\n",
       "USA        1776\n",
       "Canada     1876\n",
       "dtype: int64"
      ]
     },
     "execution_count": 21,
     "metadata": {},
     "output_type": "execute_result"
    }
   ],
   "source": [
    "my_data = [1923, 1776, 1876]\n",
    "my_idx = ['Türkiye', 'USA', 'Canada']\n",
    "pd.Series(my_data, my_idx) \n"
   ]
  },
  {
   "cell_type": "code",
   "execution_count": null,
   "id": "27203cac",
   "metadata": {},
   "outputs": [
    {
     "data": {
      "text/plain": [
       "Türkiye    1923\n",
       "USA        1776\n",
       "Canada     1876\n",
       "dtype: int64"
      ]
     },
     "execution_count": 23,
     "metadata": {},
     "output_type": "execute_result"
    }
   ],
   "source": [
    "pd.Series(data= my_data, index= my_idx) #, dtype=float) gibi belirleyebilriz"
   ]
  },
  {
   "cell_type": "code",
   "execution_count": 25,
   "id": "8ecd1a2b",
   "metadata": {},
   "outputs": [
    {
     "data": {
      "text/plain": [
       "Emincan    26\n",
       "Kaan       23\n",
       "Ayse       21\n",
       "Deniz      29\n",
       "dtype: int64"
      ]
     },
     "execution_count": 25,
     "metadata": {},
     "output_type": "execute_result"
    }
   ],
   "source": [
    "#pd.Series() fonk içerisine dictionary de alabilir. Dictionary'nin keyleri index, valueları değer olur.\n",
    "my_dict = {\n",
    "    'Emincan' : 26,\n",
    "    'Kaan' : 23,\n",
    "    'Ayse' : 21,\n",
    "    'Deniz' : 29\n",
    "    }\n",
    "my_dict\n",
    "pd.Series(data = my_dict)"
   ]
  },
  {
   "cell_type": "code",
   "execution_count": 29,
   "id": "eea82115",
   "metadata": {},
   "outputs": [
    {
     "name": "stdout",
     "output_type": "stream",
     "text": [
      "İstanbul    15.4\n",
      "İzmir        4.3\n",
      "Ankara       5.6\n",
      "Bursa        3.0\n",
      "dtype: float64\n"
     ]
    },
    {
     "data": {
      "text/plain": [
       "İstanbul    15.4\n",
       "İzmir        4.3\n",
       "Ankara       5.6\n",
       "Bursa        3.0\n",
       "dtype: float64"
      ]
     },
     "execution_count": 29,
     "metadata": {},
     "output_type": "execute_result"
    }
   ],
   "source": [
    "#SORU:.... şeklinde seri oluşturun. Hem liste hem dict ile\n",
    "sehirler = ['İstanbul', 'İzmir', 'Ankara', 'Bursa']\n",
    "sayi = [15.4, 4.3, 5.6, 3]\n",
    "print(pd.Series(sayi, sehirler))\n",
    "my_dict = {\n",
    "    'İstanbul' : 15.4,\n",
    "    'İzmir' : 4.3, \n",
    "    'Ankara' : 5.6,\n",
    "    'Bursa' : 3\n",
    "}\n",
    "pd.Series(data = my_dict)"
   ]
  },
  {
   "cell_type": "markdown",
   "id": "3d7e07b0",
   "metadata": {},
   "source": [
    "**Serilerde İşlemler**  "
   ]
  },
  {
   "cell_type": "code",
   "execution_count": 40,
   "id": "bf678d64",
   "metadata": {},
   "outputs": [
    {
     "name": "stdout",
     "output_type": "stream",
     "text": [
      "Japan       80\n",
      "China      450\n",
      "Turkiye    150\n",
      "Indıa      200\n",
      "dtype: int64\n",
      "///////////////\n",
      "Japan       90\n",
      "China      420\n",
      "Turkiye    230\n",
      "Indıa      195\n",
      "dtype: int64\n",
      "islem sonucu: \n"
     ]
    },
    {
     "data": {
      "text/plain": [
       "Japan     -10\n",
       "China      30\n",
       "Turkiye   -80\n",
       "Indıa       5\n",
       "dtype: int64"
      ]
     },
     "execution_count": 40,
     "metadata": {},
     "output_type": "execute_result"
    }
   ],
   "source": [
    "q1 = {'Japan': 80, 'China': 450, 'Turkiye': 150, 'Indıa': 200}\n",
    "q2 = {'Japan': 90, 'China': 420, 'Turkiye': 230, 'Indıa': 195}\n",
    "sales_q1 = pd.Series(q1)\n",
    "sales_q2 = pd.Series(q2)\n",
    "print(sales_q1)\n",
    "print('///////////////')\n",
    "print(sales_q2)\n",
    "#iki tarafta da aynı sayıda veri olduğu için işlemler yapabilriz\n",
    "print('islem sonucu: ')\n",
    "sales_q1 - sales_q2  #işlemler yapılabilir\n"
   ]
  },
  {
   "cell_type": "code",
   "execution_count": null,
   "id": "d2b6f619",
   "metadata": {},
   "outputs": [
    {
     "name": "stdout",
     "output_type": "stream",
     "text": [
      "Japan      170\n",
      "China      870\n",
      "Turkiye    380\n",
      "Indıa      395\n",
      "dtype: int64\n"
     ]
    },
    {
     "data": {
      "text/plain": [
       "Index(['Japan', 'China', 'Turkiye', 'Indıa'], dtype='object')"
      ]
     },
     "execution_count": 43,
     "metadata": {},
     "output_type": "execute_result"
    }
   ],
   "source": [
    "sales_total = sales_q1 + sales_q2\n",
    "print(sales_total)\n",
    "sales_total.index   #indexleri çektik "
   ]
  },
  {
   "cell_type": "code",
   "execution_count": null,
   "id": "bdbb44a1",
   "metadata": {},
   "outputs": [
    {
     "name": "stdout",
     "output_type": "stream",
     "text": [
      "Index(['Japan', 'China', 'Turkiye', 'Indıa'], dtype='object')\n"
     ]
    },
    {
     "data": {
      "text/plain": [
       "array([170, 870, 380, 395])"
      ]
     },
     "execution_count": 46,
     "metadata": {},
     "output_type": "execute_result"
    }
   ],
   "source": [
    "print(sales_total.keys()) #keys() metodu ile de indexlerine bakabiliriz\n",
    "sales_total.values        # .values attribute ı ile serimizin değerlerine bakabiliriz"
   ]
  },
  {
   "cell_type": "code",
   "execution_count": null,
   "id": "714dee8b",
   "metadata": {},
   "outputs": [
    {
     "data": {
      "text/plain": [
       "Japan       340\n",
       "China      1740\n",
       "Turkiye     760\n",
       "Indıa       790\n",
       "dtype: int64"
      ]
     },
     "execution_count": 48,
     "metadata": {},
     "output_type": "execute_result"
    }
   ],
   "source": [
    "sales_total * 2 #şeklinde her birinin 2 katını alabilir. klasik işlemler yapılabilir."
   ]
  },
  {
   "cell_type": "code",
   "execution_count": 61,
   "id": "4570ba93",
   "metadata": {},
   "outputs": [],
   "source": [
    "q1 = {'Japan': 80, 'China': 450, 'Indıa': 150, 'USA': 200}\n",
    "q2 = {'Brazil': 90, 'Indıa': 420, 'China': 230, 'USA': 195}"
   ]
  },
  {
   "cell_type": "code",
   "execution_count": 59,
   "id": "885e466f",
   "metadata": {},
   "outputs": [
    {
     "name": "stdout",
     "output_type": "stream",
     "text": [
      "Japan     80\n",
      "China    450\n",
      "Indıa    150\n",
      "USA      200\n",
      "dtype: int64\n",
      "/////////////\n",
      "Brazil     90\n",
      "China     420\n",
      "Indıa     230\n",
      "USA       195\n",
      "dtype: int64\n"
     ]
    }
   ],
   "source": [
    "sales_q1 = pd.Series(q1)\n",
    "sales_q2 = pd.Series(q2)\n",
    "print(sales_q1)\n",
    "print(\"/////////////\")\n",
    "print(sales_q2)\n"
   ]
  },
  {
   "cell_type": "code",
   "execution_count": null,
   "id": "478cd78b",
   "metadata": {},
   "outputs": [
    {
     "data": {
      "text/plain": [
       "Brazil      NaN\n",
       "China     870.0\n",
       "Indıa     380.0\n",
       "Japan       NaN\n",
       "USA       395.0\n",
       "dtype: float64"
      ]
     },
     "execution_count": 60,
     "metadata": {},
     "output_type": "execute_result"
    }
   ],
   "source": [
    "sales_q1 + sales_q2  #farklı bilinmeyen bir şey olduğunda hata vermedi ama Nan döndürür"
   ]
  },
  {
   "cell_type": "code",
   "execution_count": null,
   "id": "2bd3a005",
   "metadata": {},
   "outputs": [
    {
     "data": {
      "text/plain": [
       "Brazil     90.0\n",
       "China     870.0\n",
       "Indıa     380.0\n",
       "Japan      80.0\n",
       "USA       395.0\n",
       "dtype: float64"
      ]
     },
     "execution_count": 63,
     "metadata": {},
     "output_type": "execute_result"
    }
   ],
   "source": [
    "sales_q1.add(sales_q2, fill_value = 0) #bilinmeyenleri 0 yaptık"
   ]
  },
  {
   "cell_type": "code",
   "execution_count": null,
   "id": "10d5c25a",
   "metadata": {},
   "outputs": [
    {
     "data": {
      "text/plain": [
       "dtype('int64')"
      ]
     },
     "execution_count": 65,
     "metadata": {},
     "output_type": "execute_result"
    }
   ],
   "source": [
    "sales_q1.dtype #.dtype attribute ı ile serinin içindeki verilerin tipini çekebiliriz."
   ]
  },
  {
   "cell_type": "code",
   "execution_count": 69,
   "id": "b07fdecb",
   "metadata": {},
   "outputs": [
    {
     "data": {
      "text/plain": [
       "Fenerbahçe     206\n",
       "Galatasaray    212\n",
       "Besiktas       191\n",
       "Trabzon        193\n",
       "dtype: int64"
      ]
     },
     "execution_count": 69,
     "metadata": {},
     "output_type": "execute_result"
    }
   ],
   "source": [
    "#SORU: serileri oluştur 4 takımın 3 yılda topladığı toplam puanları karşılaştırabileceimiz yeni bir seri oluşturun\n",
    "league_2022 = {'Fenerbahçe': 51, 'Galatasaray': 60, 'Besiktas': 48, 'Trabzon': 41}\n",
    "league_2021 = {'Fenerbahçe': 73, 'Galatasaray': 68, 'Besiktas': 59, 'Trabzon': 81}\n",
    "league_2020 = {'Fenerbahçe': 82, 'Galatasaray': 84, 'Besiktas': 84, 'Trabzon': 71}\n",
    "seri_22 = pd.Series(league_2022)\n",
    "seri_21 = pd.Series(league_2021)\n",
    "seri_20 = pd.Series(league_2020)\n",
    "toplam_puan = seri_20+seri_21+seri_22\n",
    "toplam_puan\n"
   ]
  }
 ],
 "metadata": {
  "kernelspec": {
   "display_name": ".venv",
   "language": "python",
   "name": "python3"
  },
  "language_info": {
   "codemirror_mode": {
    "name": "ipython",
    "version": 3
   },
   "file_extension": ".py",
   "mimetype": "text/x-python",
   "name": "python",
   "nbconvert_exporter": "python",
   "pygments_lexer": "ipython3",
   "version": "3.12.6"
  }
 },
 "nbformat": 4,
 "nbformat_minor": 5
}
